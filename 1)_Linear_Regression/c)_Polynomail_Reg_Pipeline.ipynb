{
 "cells": [
  {
   "cell_type": "markdown",
   "id": "bb14740b",
   "metadata": {},
   "source": [
    "## Pipeline in Polynomial Regression"
   ]
  },
  {
   "cell_type": "markdown",
   "id": "611b96c0",
   "metadata": {},
   "source": []
  }
 ],
 "metadata": {
  "language_info": {
   "name": "python"
  }
 },
 "nbformat": 4,
 "nbformat_minor": 5
}
